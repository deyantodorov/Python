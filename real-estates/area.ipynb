{
 "cells": [
  {
   "cell_type": "code",
   "execution_count": 24,
   "metadata": {
    "dotnet_interactive": {
     "language": "csharp"
    },
    "polyglot_notebook": {
     "kernelName": "csharp"
    }
   },
   "outputs": [],
   "source": [
    "import tabula\n",
    "import pandas as pd\n",
    "from tabula.io import read_pdf\n"
   ]
  },
  {
   "cell_type": "code",
   "execution_count": 75,
   "metadata": {},
   "outputs": [],
   "source": [
    "def read_registry_agency_report(path: str, skip: bool, pages):\n",
    "    '''\n",
    "    Read Registry Agency report and return DataFrame\n",
    "    '''\n",
    "    report = tabula.io.read_pdf(\n",
    "        path, pages=pages, multiple_tables=True)[0].dropna()\n",
    "\n",
    "    if skip:\n",
    "        report.columns = report.iloc[0]\n",
    "        report = report.iloc[1:report.shape[0] - 1]\n",
    "\n",
    "    try:\n",
    "        report = report.drop(columns=['No'])\n",
    "    except:\n",
    "        pass\n",
    "\n",
    "    try:\n",
    "        report = report.set_index('Служба по вписванията')\n",
    "    except:\n",
    "        pass\n",
    "\n",
    "    report = report.transpose()\n",
    "\n",
    "    return report\n"
   ]
  },
  {
   "cell_type": "code",
   "execution_count": 88,
   "metadata": {},
   "outputs": [],
   "source": [
    "area = 'СВ - София'\n",
    "files = [\n",
    "         'registryagency/2023-04-06.pdf',\n",
    "         'registryagency/2023-01-03.pdf',\n",
    "         'registryagency/2022-10-12.pdf',\n",
    "         'registryagency/2022-04-06.pdf',\n",
    "         'registryagency/2022-01-03.pdf',\n",
    "        #  'registryagency/2021-10-12.pdf',\n",
    "        #  'registryagency/2021-07-09.pdf',\n",
    "         ]"
   ]
  },
  {
   "cell_type": "code",
   "execution_count": 89,
   "metadata": {},
   "outputs": [
    {
     "name": "stdout",
     "output_type": "stream",
     "text": [
      "1\n",
      "Продажби                        8615;6381;9668;9763;7268;\n",
      "Дарения                          1757;1127;2434;1869;959;\n",
      "Замени                                 150;80;175;168;95;\n",
      "Ограничени\\rвещни права              535;495;594;506;381;\n",
      "Наеми                                197;204;216;101;120;\n",
      "Аренди                                     42;32;33;9;23;\n",
      "Законни ипотеки                   1037;787;1104;1302;964;\n",
      "Договорни\\rипотеки              3591;2656;3856;3587;2506;\n",
      "Възбрани                        1155;1202;1300;1275;1376;\n",
      "Искови молби                         380;366;404;361;330;\n",
      "Обявени\\rзавещания                    135;97;158;120;118;\n",
      "Делби                                158;106;234;167;112;\n",
      "КНА                                 750;590;1040;735;467;\n",
      "АДС                                   130;147;108;206;59;\n",
      "АОС                                  525;605;783;788;635;\n",
      "Други актове                    1352;1174;1548;1457;1092;\n",
      "Общо вписвания             20509;16049;23655;22414;16505;\n",
      "Заличени искови\\rмолби                    41;36;39;41;31;\n",
      "Заличени\\rвъзбрани              1300;1341;1323;1396;1226;\n",
      "Заличени\\rипотеки               3090;3186;3349;3372;3311;\n",
      "Стари актове                                   0;0;0;0;0;\n",
      "Name: СВ - София, dtype: object\n"
     ]
    }
   ],
   "source": [
    "str = ''\n",
    "\n",
    "for f in files:\n",
    "    report = read_registry_agency_report(f, True, 1)\n",
    "    str += report[area]\n",
    "    str += ';'\n",
    "\n",
    "print(str)\n",
    "\n"
   ]
  }
 ],
 "metadata": {
  "kernelspec": {
   "display_name": "Python 3",
   "language": "python",
   "name": "python3"
  },
  "language_info": {
   "codemirror_mode": {
    "name": "ipython",
    "version": 3
   },
   "file_extension": ".py",
   "mimetype": "text/x-python",
   "name": "python",
   "nbconvert_exporter": "python",
   "pygments_lexer": "ipython3",
   "version": "3.11.3"
  },
  "orig_nbformat": 4,
  "polyglot_notebook": {
   "kernelInfo": {
    "defaultKernelName": "csharp",
    "items": [
     {
      "aliases": [],
      "name": "csharp"
     }
    ]
   }
  }
 },
 "nbformat": 4,
 "nbformat_minor": 2
}
