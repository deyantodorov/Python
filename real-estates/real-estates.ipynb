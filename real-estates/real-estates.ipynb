{
 "cells": [
  {
   "cell_type": "code",
   "execution_count": 299,
   "metadata": {},
   "outputs": [],
   "source": [
    "import tabula\n",
    "import pandas as pd"
   ]
  },
  {
   "cell_type": "code",
   "execution_count": 292,
   "metadata": {},
   "outputs": [],
   "source": [
    "def read_registry_agency_report(path:str, skip:bool, pages):\n",
    "    '''\n",
    "    Read Registry Agency report and return DataFrame\n",
    "    '''\n",
    "    report = tabula.io.read_pdf(path, pages=pages, multiple_tables=True)[0].dropna()\n",
    "    \n",
    "    if skip:\n",
    "        report.columns = report.iloc[0]\n",
    "        report = report.iloc[1:report.shape[0] - 1]\n",
    "\n",
    "    report = report.drop(columns=['No'])\n",
    "    report = report.set_index('Служба по вписванията')\n",
    "    report = report.transpose()\n",
    "\n",
    "    return report\n"
   ]
  },
  {
   "cell_type": "code",
   "execution_count": 293,
   "metadata": {},
   "outputs": [
    {
     "data": {
      "text/plain": [
       "1\n",
       "Продажби                    7268\n",
       "Дарения                      959\n",
       "Замени                        95\n",
       "Ограничени\\rвещни права      381\n",
       "Наеми                        120\n",
       "Аренди                        23\n",
       "Законни ипотеки              964\n",
       "Договорни\\rипотеки          2506\n",
       "Възбрани                    1376\n",
       "Искови молби                 330\n",
       "Обявени\\rзавещания           118\n",
       "Делби                        112\n",
       "КНА                          467\n",
       "АДС                           59\n",
       "АОС                          635\n",
       "Други актове                1092\n",
       "Общо вписвания             16505\n",
       "Заличени искови\\rмолби        31\n",
       "Заличени\\rвъзбрани          1226\n",
       "Заличени\\rипотеки           3311\n",
       "Стари актове                   0\n",
       "Name: СВ - София, dtype: object"
      ]
     },
     "execution_count": 293,
     "metadata": {},
     "output_type": "execute_result"
    }
   ],
   "source": [
    "q1_2022 = read_registry_agency_report('stats/01-03-2022.pdf', True, 1)\n",
    "q1_2022['СВ - София']\n"
   ]
  },
  {
   "cell_type": "code",
   "execution_count": 295,
   "metadata": {},
   "outputs": [
    {
     "data": {
      "text/plain": [
       "1\n",
       "Продажби                    9763\n",
       "Дарения                     1869\n",
       "Замени                       168\n",
       "Ограничени\\rвещни права      506\n",
       "Наеми                        101\n",
       "Аренди                         9\n",
       "Законни ипотеки             1302\n",
       "Договорни\\rипотеки          3587\n",
       "Възбрани                    1275\n",
       "Искови молби                 361\n",
       "Обявени\\rзавещания           120\n",
       "Делби                        167\n",
       "КНА                          735\n",
       "АДС                          206\n",
       "АОС                          788\n",
       "Други актове                1457\n",
       "Общо вписвания             22414\n",
       "Заличени искови\\rмолби        41\n",
       "Заличени\\rвъзбрани          1396\n",
       "Заличени\\rипотеки           3372\n",
       "Стари актове                   0\n",
       "Name: СВ - София, dtype: object"
      ]
     },
     "execution_count": 295,
     "metadata": {},
     "output_type": "execute_result"
    }
   ],
   "source": [
    "q2_2022 = read_registry_agency_report('stats/04-06-2022.pdf', True, 1)\n",
    "q2_2022['СВ - София']\n"
   ]
  },
  {
   "cell_type": "code",
   "execution_count": 302,
   "metadata": {},
   "outputs": [
    {
     "data": {
      "text/html": [
       "<div>\n",
       "<style scoped>\n",
       "    .dataframe tbody tr th:only-of-type {\n",
       "        vertical-align: middle;\n",
       "    }\n",
       "\n",
       "    .dataframe tbody tr th {\n",
       "        vertical-align: top;\n",
       "    }\n",
       "\n",
       "    .dataframe thead th {\n",
       "        text-align: right;\n",
       "    }\n",
       "</style>\n",
       "<table border=\"1\" class=\"dataframe\">\n",
       "  <thead>\n",
       "    <tr style=\"text-align: right;\">\n",
       "      <th></th>\n",
       "      <th>Продажби</th>\n",
       "      <th>Дарения</th>\n",
       "      <th>Замени</th>\n",
       "      <th>Ограничени вещни права</th>\n",
       "      <th>Наеми</th>\n",
       "      <th>Аренди</th>\n",
       "      <th>Законни ипотеки</th>\n",
       "      <th>Договорни ипотеки</th>\n",
       "      <th>Възбрани</th>\n",
       "      <th>Искови молби</th>\n",
       "      <th>...</th>\n",
       "      <th>Делби</th>\n",
       "      <th>КНА</th>\n",
       "      <th>АДС</th>\n",
       "      <th>АОС</th>\n",
       "      <th>Други актове</th>\n",
       "      <th>Общо вписвания</th>\n",
       "      <th>Заличени искови молби</th>\n",
       "      <th>Заличени възбрани</th>\n",
       "      <th>Заличени ипотеки</th>\n",
       "      <th>Стари актове</th>\n",
       "    </tr>\n",
       "  </thead>\n",
       "  <tbody>\n",
       "    <tr>\n",
       "      <th>0</th>\n",
       "      <td>12</td>\n",
       "      <td>NaN</td>\n",
       "      <td>NaN</td>\n",
       "      <td>NaN</td>\n",
       "      <td>NaN</td>\n",
       "      <td>NaN</td>\n",
       "      <td>NaN</td>\n",
       "      <td>NaN</td>\n",
       "      <td>NaN</td>\n",
       "      <td>NaN</td>\n",
       "      <td>...</td>\n",
       "      <td>NaN</td>\n",
       "      <td>NaN</td>\n",
       "      <td>NaN</td>\n",
       "      <td>NaN</td>\n",
       "      <td>NaN</td>\n",
       "      <td>NaN</td>\n",
       "      <td>NaN</td>\n",
       "      <td>NaN</td>\n",
       "      <td>NaN</td>\n",
       "      <td>NaN</td>\n",
       "    </tr>\n",
       "  </tbody>\n",
       "</table>\n",
       "<p>1 rows × 21 columns</p>\n",
       "</div>"
      ],
      "text/plain": [
       "  Продажби Дарения Замени Ограничени вещни права Наеми Аренди Законни ипотеки  \\\n",
       "0       12     NaN    NaN                    NaN   NaN    NaN             NaN   \n",
       "\n",
       "  Договорни ипотеки Възбрани Искови молби  ... Делби  КНА  АДС  АОС  \\\n",
       "0               NaN      NaN          NaN  ...   NaN  NaN  NaN  NaN   \n",
       "\n",
       "  Други актове Общо вписвания Заличени искови молби Заличени възбрани  \\\n",
       "0          NaN            NaN                   NaN               NaN   \n",
       "\n",
       "  Заличени ипотеки Стари актове  \n",
       "0              NaN          NaN  \n",
       "\n",
       "[1 rows x 21 columns]"
      ]
     },
     "execution_count": 302,
     "metadata": {},
     "output_type": "execute_result"
    }
   ],
   "source": [
    "sofia = pd.DataFrame(\n",
    "    columns=[\n",
    "        'Продажби', \n",
    "        'Дарения', \n",
    "        'Замени', \n",
    "        'Ограничени вещни права', \n",
    "        'Наеми', \n",
    "        'Аренди', \n",
    "        'Законни ипотеки', \n",
    "        'Договорни ипотеки', \n",
    "        'Възбрани', \n",
    "        'Искови молби', \n",
    "        'Обявени завещания', \n",
    "        'Делби',\n",
    "        'КНА',\n",
    "        'АДС',\n",
    "        'АОС',\n",
    "        'Други актове',\n",
    "        'Общо вписвания',\n",
    "        'Заличени искови молби',\n",
    "        'Заличени възбрани',\n",
    "        'Заличени ипотеки',\n",
    "        'Стари актове'])\n",
    "\n",
    "sofia.at[0, 'Продажби'] = 12\n",
    "\n",
    "sofia.head()\n"
   ]
  },
  {
   "cell_type": "code",
   "execution_count": 305,
   "metadata": {},
   "outputs": [],
   "source": [
    "# q1_2021 = read_registry_agency_report('stats/01-03-2021.pdf', True, 1)\n",
    "# q1_2021.head()\n"
   ]
  }
 ],
 "metadata": {
  "kernelspec": {
   "display_name": "Python 3.8.5 64-bit",
   "language": "python",
   "name": "python3"
  },
  "language_info": {
   "codemirror_mode": {
    "name": "ipython",
    "version": 3
   },
   "file_extension": ".py",
   "mimetype": "text/x-python",
   "name": "python",
   "nbconvert_exporter": "python",
   "pygments_lexer": "ipython3",
   "version": "3.8.5"
  },
  "orig_nbformat": 4,
  "vscode": {
   "interpreter": {
    "hash": "082e9a3bcad0a290d0001e938aa60b99250c6c2ef33a923c00b70f9826caf4b7"
   }
  }
 },
 "nbformat": 4,
 "nbformat_minor": 2
}
