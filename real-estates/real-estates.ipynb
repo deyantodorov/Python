{
 "cells": [
  {
   "cell_type": "code",
   "execution_count": 5,
   "metadata": {
    "dotnet_interactive": {
     "language": "csharp"
    },
    "polyglot_notebook": {
     "kernelName": "csharp"
    }
   },
   "outputs": [],
   "source": [
    "import tabula\n",
    "import pandas as pd\n",
    "from tabula.io import read_pdf"
   ]
  },
  {
   "cell_type": "code",
   "execution_count": 2,
   "metadata": {},
   "outputs": [],
   "source": [
    "def read_registry_agency_report(path:str, skip:bool, pages):\n",
    "    '''\n",
    "    Read Registry Agency report and return DataFrame\n",
    "    '''    \n",
    "    report = tabula.io.read_pdf(path, pages=pages, multiple_tables=True)[0].dropna()\n",
    "    \n",
    "    if skip:\n",
    "        report.columns = report.iloc[0]\n",
    "        report = report.iloc[1:report.shape[0] - 1]\n",
    "\n",
    "    report = report.drop(columns=['No'])\n",
    "    report = report.set_index('Служба по вписванията')\n",
    "    report = report.transpose()\n",
    "\n",
    "    return report\n"
   ]
  },
  {
   "cell_type": "code",
   "execution_count": 3,
   "metadata": {},
   "outputs": [],
   "source": [
    "pdf_source = 'registryagency/2023-04-06.pdf'"
   ]
  },
  {
   "cell_type": "code",
   "execution_count": 6,
   "metadata": {},
   "outputs": [
    {
     "data": {
      "text/plain": [
       "1\n",
       "Продажби                    8615\n",
       "Дарения                     1757\n",
       "Замени                       150\n",
       "Ограничени\\rвещни права      535\n",
       "Наеми                        197\n",
       "Аренди                        42\n",
       "Законни ипотеки             1037\n",
       "Договорни\\rипотеки          3591\n",
       "Възбрани                    1155\n",
       "Искови молби                 380\n",
       "Обявени\\rзавещания           135\n",
       "Делби                        158\n",
       "КНА                          750\n",
       "АДС                          130\n",
       "АОС                          525\n",
       "Други актове                1352\n",
       "Общо вписвания             20509\n",
       "Заличени искови\\rмолби        41\n",
       "Заличени\\rвъзбрани          1300\n",
       "Заличени\\rипотеки           3090\n",
       "Стари актове                   0\n",
       "Name: СВ - София, dtype: object"
      ]
     },
     "execution_count": 6,
     "metadata": {},
     "output_type": "execute_result"
    }
   ],
   "source": [
    "sofia = read_registry_agency_report(pdf_source, True, 1)\n",
    "sofia['СВ - София']"
   ]
  },
  {
   "cell_type": "code",
   "execution_count": null,
   "metadata": {},
   "outputs": [
    {
     "data": {
      "text/plain": [
       "1\n",
       "Продажби                    4175\n",
       "Дарения                      903\n",
       "Замени                        67\n",
       "Ограничени\\rвещни права      215\n",
       "Наеми                        201\n",
       "Аренди                        43\n",
       "Законни ипотеки              219\n",
       "Договорни\\rипотеки          1109\n",
       "Възбрани                     612\n",
       "Искови молби                 102\n",
       "Обявени\\rзавещания            38\n",
       "Делби                        215\n",
       "КНА                          495\n",
       "АДС                          207\n",
       "АОС                          683\n",
       "Други актове                 719\n",
       "Общо вписвания             10003\n",
       "Заличени искови\\rмолби         7\n",
       "Заличени\\rвъзбрани           562\n",
       "Заличени\\rипотеки            629\n",
       "Стари актове                   0\n",
       "Name: СВ - Пловдив, dtype: object"
      ]
     },
     "execution_count": 37,
     "metadata": {},
     "output_type": "execute_result"
    }
   ],
   "source": [
    "plovdiv = read_registry_agency_report(pdf_source, True, 1)\n",
    "plovdiv['СВ - Пловдив']\n"
   ]
  },
  {
   "cell_type": "code",
   "execution_count": null,
   "metadata": {},
   "outputs": [
    {
     "data": {
      "text/plain": [
       "1\n",
       "Продажби                   3792\n",
       "Дарения                     602\n",
       "Замени                       71\n",
       "Ограничени\\rвещни права     180\n",
       "Наеми                        98\n",
       "Аренди                      181\n",
       "Законни ипотеки             264\n",
       "Договорни\\rипотеки          949\n",
       "Възбрани                    946\n",
       "Искови молби                135\n",
       "Обявени\\rзавещания           28\n",
       "Делби                        82\n",
       "КНА                         341\n",
       "АДС                          40\n",
       "АОС                         303\n",
       "Други актове                723\n",
       "Общо вписвания             8735\n",
       "Заличени искови\\rмолби        1\n",
       "Заличени\\rвъзбрани          891\n",
       "Заличени\\rипотеки           630\n",
       "Стари актове                  0\n",
       "Name: СВ - Варна, dtype: object"
      ]
     },
     "execution_count": 38,
     "metadata": {},
     "output_type": "execute_result"
    }
   ],
   "source": [
    "varna = read_registry_agency_report(pdf_source, True, 1)\n",
    "varna['СВ - Варна']\n"
   ]
  },
  {
   "cell_type": "code",
   "execution_count": null,
   "metadata": {},
   "outputs": [
    {
     "data": {
      "text/plain": [
       "1\n",
       "Продажби                   1736\n",
       "Дарения                     373\n",
       "Замени                       45\n",
       "Ограничени\\rвещни права     102\n",
       "Наеми                       158\n",
       "Аренди                       39\n",
       "Законни ипотеки             134\n",
       "Договорни\\rипотеки          433\n",
       "Възбрани                    321\n",
       "Искови молби                 41\n",
       "Обявени\\rзавещания           15\n",
       "Делби                        49\n",
       "КНА                         222\n",
       "АДС                         106\n",
       "АОС                         228\n",
       "Други актове                284\n",
       "Общо вписвания             4286\n",
       "Заличени искови\\rмолби        6\n",
       "Заличени\\rвъзбрани          246\n",
       "Заличени\\rипотеки           354\n",
       "Стари актове                  0\n",
       "Name: СВ - Бургас, dtype: object"
      ]
     },
     "execution_count": 39,
     "metadata": {},
     "output_type": "execute_result"
    }
   ],
   "source": [
    "burgas = read_registry_agency_report(pdf_source, True, 1)\n",
    "burgas['СВ - Бургас']\n"
   ]
  },
  {
   "cell_type": "code",
   "execution_count": null,
   "metadata": {},
   "outputs": [
    {
     "data": {
      "text/plain": [
       "1\n",
       "Продажби                   269\n",
       "Дарения                     73\n",
       "Замени                       9\n",
       "Ограничени\\rвещни права     10\n",
       "Наеми                        3\n",
       "Аренди                       0\n",
       "Законни ипотеки             10\n",
       "Договорни\\rипотеки          63\n",
       "Възбрани                    44\n",
       "Искови молби                11\n",
       "Обявени\\rзавещания           7\n",
       "Делби                       23\n",
       "КНА                         42\n",
       "АДС                         70\n",
       "АОС                         52\n",
       "Други актове                28\n",
       "Общо вписвания             714\n",
       "Заличени искови\\rмолби       0\n",
       "Заличени\\rвъзбрани          34\n",
       "Заличени\\rипотеки           35\n",
       "Стари актове                 0\n",
       "Name: СВ - Елин Пелин, dtype: object"
      ]
     },
     "execution_count": 40,
     "metadata": {},
     "output_type": "execute_result"
    }
   ],
   "source": [
    "elin_pelin = read_registry_agency_report(pdf_source, True, 1)\n",
    "elin_pelin['СВ - Елин Пелин']"
   ]
  },
  {
   "cell_type": "code",
   "execution_count": null,
   "metadata": {},
   "outputs": [
    {
     "data": {
      "text/plain": [
       "1\n",
       "Продажби                   274\n",
       "Дарения                     36\n",
       "Замени                       4\n",
       "Ограничени\\rвещни права     26\n",
       "Наеми                        9\n",
       "Аренди                       0\n",
       "Законни ипотеки              4\n",
       "Договорни\\rипотеки          38\n",
       "Възбрани                    43\n",
       "Искови молби                10\n",
       "Обявени\\rзавещания           2\n",
       "Делби                        2\n",
       "КНА                         26\n",
       "АДС                         19\n",
       "АОС                         50\n",
       "Други актове                73\n",
       "Общо вписвания             616\n",
       "Заличени искови\\rмолби       3\n",
       "Заличени\\rвъзбрани          47\n",
       "Заличени\\rипотеки           22\n",
       "Стари актове                 0\n",
       "Name: СВ - Царево, dtype: object"
      ]
     },
     "execution_count": 42,
     "metadata": {},
     "output_type": "execute_result"
    }
   ],
   "source": [
    "tsarevo = read_registry_agency_report(pdf_source, True, 1)\n",
    "tsarevo['СВ - Царево']\n"
   ]
  }
 ],
 "metadata": {
  "kernelspec": {
   "display_name": "Python 3",
   "language": "python",
   "name": "python3"
  },
  "language_info": {
   "codemirror_mode": {
    "name": "ipython",
    "version": 3
   },
   "file_extension": ".py",
   "mimetype": "text/x-python",
   "name": "python",
   "nbconvert_exporter": "python",
   "pygments_lexer": "ipython3",
   "version": "3.11.3"
  },
  "orig_nbformat": 4,
  "polyglot_notebook": {
   "kernelInfo": {
    "defaultKernelName": "csharp",
    "items": [
     {
      "aliases": [],
      "name": "csharp"
     }
    ]
   }
  }
 },
 "nbformat": 4,
 "nbformat_minor": 2
}
