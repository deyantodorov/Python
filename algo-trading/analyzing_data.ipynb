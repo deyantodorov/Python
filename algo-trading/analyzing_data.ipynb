{
 "cells": [
  {
   "cell_type": "code",
   "execution_count": 22,
   "source": [
    "import pandas as pd\r\n",
    "import yfinance as yf\r\n",
    "import pandas as pd\r\n",
    "import pandas_datareader.data as pdr\r\n",
    "from datetime import datetime\r\n",
    "\r\n",
    "start = datetime(2018, 1, 1)\r\n",
    "end = datetime(2021, 7, 1)\r\n",
    "\r\n",
    "yf.pdr_override()\r\n",
    "stock = pdr.get_data_yahoo('AMZN', start, end)\r\n",
    "\r\n",
    "stock.head()\r\n"
   ],
   "outputs": [
    {
     "output_type": "stream",
     "name": "stdout",
     "text": [
      "[*********************100%***********************]  1 of 1 completed\n"
     ]
    },
    {
     "output_type": "execute_result",
     "data": {
      "text/plain": [
       "                   Open         High          Low        Close    Adj Close  \\\n",
       "Date                                                                          \n",
       "2018-01-02  1172.000000  1190.000000  1170.510010  1189.010010  1189.010010   \n",
       "2018-01-03  1188.300049  1205.489990  1188.300049  1204.199951  1204.199951   \n",
       "2018-01-04  1205.000000  1215.869995  1204.660034  1209.589966  1209.589966   \n",
       "2018-01-05  1217.510010  1229.140015  1210.000000  1229.140015  1229.140015   \n",
       "2018-01-08  1236.000000  1253.079956  1232.030029  1246.869995  1246.869995   \n",
       "\n",
       "             Volume  \n",
       "Date                 \n",
       "2018-01-02  2694500  \n",
       "2018-01-03  3108800  \n",
       "2018-01-04  3022100  \n",
       "2018-01-05  3544700  \n",
       "2018-01-08  4279500  "
      ],
      "text/html": [
       "<div>\n",
       "<style scoped>\n",
       "    .dataframe tbody tr th:only-of-type {\n",
       "        vertical-align: middle;\n",
       "    }\n",
       "\n",
       "    .dataframe tbody tr th {\n",
       "        vertical-align: top;\n",
       "    }\n",
       "\n",
       "    .dataframe thead th {\n",
       "        text-align: right;\n",
       "    }\n",
       "</style>\n",
       "<table border=\"1\" class=\"dataframe\">\n",
       "  <thead>\n",
       "    <tr style=\"text-align: right;\">\n",
       "      <th></th>\n",
       "      <th>Open</th>\n",
       "      <th>High</th>\n",
       "      <th>Low</th>\n",
       "      <th>Close</th>\n",
       "      <th>Adj Close</th>\n",
       "      <th>Volume</th>\n",
       "    </tr>\n",
       "    <tr>\n",
       "      <th>Date</th>\n",
       "      <th></th>\n",
       "      <th></th>\n",
       "      <th></th>\n",
       "      <th></th>\n",
       "      <th></th>\n",
       "      <th></th>\n",
       "    </tr>\n",
       "  </thead>\n",
       "  <tbody>\n",
       "    <tr>\n",
       "      <th>2018-01-02</th>\n",
       "      <td>1172.000000</td>\n",
       "      <td>1190.000000</td>\n",
       "      <td>1170.510010</td>\n",
       "      <td>1189.010010</td>\n",
       "      <td>1189.010010</td>\n",
       "      <td>2694500</td>\n",
       "    </tr>\n",
       "    <tr>\n",
       "      <th>2018-01-03</th>\n",
       "      <td>1188.300049</td>\n",
       "      <td>1205.489990</td>\n",
       "      <td>1188.300049</td>\n",
       "      <td>1204.199951</td>\n",
       "      <td>1204.199951</td>\n",
       "      <td>3108800</td>\n",
       "    </tr>\n",
       "    <tr>\n",
       "      <th>2018-01-04</th>\n",
       "      <td>1205.000000</td>\n",
       "      <td>1215.869995</td>\n",
       "      <td>1204.660034</td>\n",
       "      <td>1209.589966</td>\n",
       "      <td>1209.589966</td>\n",
       "      <td>3022100</td>\n",
       "    </tr>\n",
       "    <tr>\n",
       "      <th>2018-01-05</th>\n",
       "      <td>1217.510010</td>\n",
       "      <td>1229.140015</td>\n",
       "      <td>1210.000000</td>\n",
       "      <td>1229.140015</td>\n",
       "      <td>1229.140015</td>\n",
       "      <td>3544700</td>\n",
       "    </tr>\n",
       "    <tr>\n",
       "      <th>2018-01-08</th>\n",
       "      <td>1236.000000</td>\n",
       "      <td>1253.079956</td>\n",
       "      <td>1232.030029</td>\n",
       "      <td>1246.869995</td>\n",
       "      <td>1246.869995</td>\n",
       "      <td>4279500</td>\n",
       "    </tr>\n",
       "  </tbody>\n",
       "</table>\n",
       "</div>"
      ]
     },
     "metadata": {},
     "execution_count": 22
    }
   ],
   "metadata": {}
  },
  {
   "cell_type": "code",
   "execution_count": 23,
   "source": [
    "signal = pd.DataFrame()\r\n",
    "\r\n",
    "SMA1 = 20\r\n",
    "SMA2 = 50\r\n",
    "stock['SMA1'] = stock['Close'].rolling(SMA1).mean()\r\n",
    "stock['SMA2'] = stock['Close'].rolling(SMA2).mean()\r\n",
    "\r\n",
    "signal['crossover'] = stock['SMA1'] - stock['SMA2']\r\n",
    "\r\n",
    "stock.describe()\r\n",
    "\r\n",
    "signal.tail()\r\n",
    "\r\n",
    "stock = stock.join(signal, how='left')\r\n",
    "stock.tail()\r\n"
   ],
   "outputs": [
    {
     "output_type": "execute_result",
     "data": {
      "text/plain": [
       "                   Open         High          Low        Close    Adj Close  \\\n",
       "Date                                                                          \n",
       "2021-06-24  3507.639893  3524.860107  3430.850098  3449.080078  3449.080078   \n",
       "2021-06-25  3464.000000  3464.820068  3394.179932  3401.459961  3401.459961   \n",
       "2021-06-28  3416.000000  3448.000000  3413.510010  3443.889893  3443.889893   \n",
       "2021-06-29  3438.820068  3456.030029  3423.030029  3448.139893  3448.139893   \n",
       "2021-06-30  3441.060059  3471.600098  3435.000000  3440.159912  3440.159912   \n",
       "\n",
       "             Volume         SMA1         SMA2  crossover  \n",
       "Date                                                      \n",
       "2021-06-24  3832000  3340.474500  3320.046797  20.427703  \n",
       "2021-06-25  3941000  3349.041992  3320.494194  28.547798  \n",
       "2021-06-28  2242800  3360.082983  3321.383193  38.699790  \n",
       "2021-06-29  2098400  3371.557483  3322.905791  48.651692  \n",
       "2021-06-30  2404000  3381.865979  3325.015190  56.850789  "
      ],
      "text/html": [
       "<div>\n",
       "<style scoped>\n",
       "    .dataframe tbody tr th:only-of-type {\n",
       "        vertical-align: middle;\n",
       "    }\n",
       "\n",
       "    .dataframe tbody tr th {\n",
       "        vertical-align: top;\n",
       "    }\n",
       "\n",
       "    .dataframe thead th {\n",
       "        text-align: right;\n",
       "    }\n",
       "</style>\n",
       "<table border=\"1\" class=\"dataframe\">\n",
       "  <thead>\n",
       "    <tr style=\"text-align: right;\">\n",
       "      <th></th>\n",
       "      <th>Open</th>\n",
       "      <th>High</th>\n",
       "      <th>Low</th>\n",
       "      <th>Close</th>\n",
       "      <th>Adj Close</th>\n",
       "      <th>Volume</th>\n",
       "      <th>SMA1</th>\n",
       "      <th>SMA2</th>\n",
       "      <th>crossover</th>\n",
       "    </tr>\n",
       "    <tr>\n",
       "      <th>Date</th>\n",
       "      <th></th>\n",
       "      <th></th>\n",
       "      <th></th>\n",
       "      <th></th>\n",
       "      <th></th>\n",
       "      <th></th>\n",
       "      <th></th>\n",
       "      <th></th>\n",
       "      <th></th>\n",
       "    </tr>\n",
       "  </thead>\n",
       "  <tbody>\n",
       "    <tr>\n",
       "      <th>2021-06-24</th>\n",
       "      <td>3507.639893</td>\n",
       "      <td>3524.860107</td>\n",
       "      <td>3430.850098</td>\n",
       "      <td>3449.080078</td>\n",
       "      <td>3449.080078</td>\n",
       "      <td>3832000</td>\n",
       "      <td>3340.474500</td>\n",
       "      <td>3320.046797</td>\n",
       "      <td>20.427703</td>\n",
       "    </tr>\n",
       "    <tr>\n",
       "      <th>2021-06-25</th>\n",
       "      <td>3464.000000</td>\n",
       "      <td>3464.820068</td>\n",
       "      <td>3394.179932</td>\n",
       "      <td>3401.459961</td>\n",
       "      <td>3401.459961</td>\n",
       "      <td>3941000</td>\n",
       "      <td>3349.041992</td>\n",
       "      <td>3320.494194</td>\n",
       "      <td>28.547798</td>\n",
       "    </tr>\n",
       "    <tr>\n",
       "      <th>2021-06-28</th>\n",
       "      <td>3416.000000</td>\n",
       "      <td>3448.000000</td>\n",
       "      <td>3413.510010</td>\n",
       "      <td>3443.889893</td>\n",
       "      <td>3443.889893</td>\n",
       "      <td>2242800</td>\n",
       "      <td>3360.082983</td>\n",
       "      <td>3321.383193</td>\n",
       "      <td>38.699790</td>\n",
       "    </tr>\n",
       "    <tr>\n",
       "      <th>2021-06-29</th>\n",
       "      <td>3438.820068</td>\n",
       "      <td>3456.030029</td>\n",
       "      <td>3423.030029</td>\n",
       "      <td>3448.139893</td>\n",
       "      <td>3448.139893</td>\n",
       "      <td>2098400</td>\n",
       "      <td>3371.557483</td>\n",
       "      <td>3322.905791</td>\n",
       "      <td>48.651692</td>\n",
       "    </tr>\n",
       "    <tr>\n",
       "      <th>2021-06-30</th>\n",
       "      <td>3441.060059</td>\n",
       "      <td>3471.600098</td>\n",
       "      <td>3435.000000</td>\n",
       "      <td>3440.159912</td>\n",
       "      <td>3440.159912</td>\n",
       "      <td>2404000</td>\n",
       "      <td>3381.865979</td>\n",
       "      <td>3325.015190</td>\n",
       "      <td>56.850789</td>\n",
       "    </tr>\n",
       "  </tbody>\n",
       "</table>\n",
       "</div>"
      ]
     },
     "metadata": {},
     "execution_count": 23
    }
   ],
   "metadata": {}
  },
  {
   "cell_type": "code",
   "execution_count": 24,
   "source": [
    "signal['close-close'] = stock['Close'].diff()\r\n",
    "signal.head()"
   ],
   "outputs": [
    {
     "output_type": "execute_result",
     "data": {
      "text/plain": [
       "            crossover  close-close\n",
       "Date                              \n",
       "2018-01-02        NaN          NaN\n",
       "2018-01-03        NaN    15.189941\n",
       "2018-01-04        NaN     5.390015\n",
       "2018-01-05        NaN    19.550049\n",
       "2018-01-08        NaN    17.729980"
      ],
      "text/html": [
       "<div>\n",
       "<style scoped>\n",
       "    .dataframe tbody tr th:only-of-type {\n",
       "        vertical-align: middle;\n",
       "    }\n",
       "\n",
       "    .dataframe tbody tr th {\n",
       "        vertical-align: top;\n",
       "    }\n",
       "\n",
       "    .dataframe thead th {\n",
       "        text-align: right;\n",
       "    }\n",
       "</style>\n",
       "<table border=\"1\" class=\"dataframe\">\n",
       "  <thead>\n",
       "    <tr style=\"text-align: right;\">\n",
       "      <th></th>\n",
       "      <th>crossover</th>\n",
       "      <th>close-close</th>\n",
       "    </tr>\n",
       "    <tr>\n",
       "      <th>Date</th>\n",
       "      <th></th>\n",
       "      <th></th>\n",
       "    </tr>\n",
       "  </thead>\n",
       "  <tbody>\n",
       "    <tr>\n",
       "      <th>2018-01-02</th>\n",
       "      <td>NaN</td>\n",
       "      <td>NaN</td>\n",
       "    </tr>\n",
       "    <tr>\n",
       "      <th>2018-01-03</th>\n",
       "      <td>NaN</td>\n",
       "      <td>15.189941</td>\n",
       "    </tr>\n",
       "    <tr>\n",
       "      <th>2018-01-04</th>\n",
       "      <td>NaN</td>\n",
       "      <td>5.390015</td>\n",
       "    </tr>\n",
       "    <tr>\n",
       "      <th>2018-01-05</th>\n",
       "      <td>NaN</td>\n",
       "      <td>19.550049</td>\n",
       "    </tr>\n",
       "    <tr>\n",
       "      <th>2018-01-08</th>\n",
       "      <td>NaN</td>\n",
       "      <td>17.729980</td>\n",
       "    </tr>\n",
       "  </tbody>\n",
       "</table>\n",
       "</div>"
      ]
     },
     "metadata": {},
     "execution_count": 24
    }
   ],
   "metadata": {}
  },
  {
   "cell_type": "code",
   "execution_count": 26,
   "source": [
    "signal.dropna(inplace=True)\r\n",
    "quality = (signal['crossover'] > 0) & (signal['close-close'] > 0) | (signal['crossover'] < 0) & (signal['close-close'] < 0)\r\n",
    "quality.head()"
   ],
   "outputs": [
    {
     "output_type": "execute_result",
     "data": {
      "text/plain": [
       "Date\n",
       "2018-03-14     True\n",
       "2018-03-15    False\n",
       "2018-03-16    False\n",
       "2018-03-19    False\n",
       "2018-03-20     True\n",
       "dtype: bool"
      ]
     },
     "metadata": {},
     "execution_count": 26
    }
   ],
   "metadata": {}
  },
  {
   "cell_type": "code",
   "execution_count": 27,
   "source": [
    "quality = quality.astype(int)\r\n",
    "quality.head()"
   ],
   "outputs": [
    {
     "output_type": "execute_result",
     "data": {
      "text/plain": [
       "Date\n",
       "2018-03-14    1\n",
       "2018-03-15    0\n",
       "2018-03-16    0\n",
       "2018-03-19    0\n",
       "2018-03-20    1\n",
       "dtype: int32"
      ]
     },
     "metadata": {},
     "execution_count": 27
    }
   ],
   "metadata": {}
  },
  {
   "cell_type": "code",
   "execution_count": 28,
   "source": [
    "proportion_correct = quality.sum()/quality.count()\r\n",
    "proportion_correct"
   ],
   "outputs": [
    {
     "output_type": "execute_result",
     "data": {
      "text/plain": [
       "0.50661853188929"
      ]
     },
     "metadata": {},
     "execution_count": 28
    }
   ],
   "metadata": {}
  },
  {
   "cell_type": "code",
   "execution_count": 29,
   "source": [
    "information_coefficient = 2 * proportion_correct - 1\r\n",
    "information_coefficient"
   ],
   "outputs": [
    {
     "output_type": "execute_result",
     "data": {
      "text/plain": [
       "0.013237063778579916"
      ]
     },
     "metadata": {},
     "execution_count": 29
    }
   ],
   "metadata": {}
  },
  {
   "cell_type": "code",
   "execution_count": 30,
   "source": [
    "signal.corr(method='spearman')"
   ],
   "outputs": [
    {
     "output_type": "execute_result",
     "data": {
      "text/plain": [
       "             crossover  close-close\n",
       "crossover     1.000000    -0.027932\n",
       "close-close  -0.027932     1.000000"
      ],
      "text/html": [
       "<div>\n",
       "<style scoped>\n",
       "    .dataframe tbody tr th:only-of-type {\n",
       "        vertical-align: middle;\n",
       "    }\n",
       "\n",
       "    .dataframe tbody tr th {\n",
       "        vertical-align: top;\n",
       "    }\n",
       "\n",
       "    .dataframe thead th {\n",
       "        text-align: right;\n",
       "    }\n",
       "</style>\n",
       "<table border=\"1\" class=\"dataframe\">\n",
       "  <thead>\n",
       "    <tr style=\"text-align: right;\">\n",
       "      <th></th>\n",
       "      <th>crossover</th>\n",
       "      <th>close-close</th>\n",
       "    </tr>\n",
       "  </thead>\n",
       "  <tbody>\n",
       "    <tr>\n",
       "      <th>crossover</th>\n",
       "      <td>1.000000</td>\n",
       "      <td>-0.027932</td>\n",
       "    </tr>\n",
       "    <tr>\n",
       "      <th>close-close</th>\n",
       "      <td>-0.027932</td>\n",
       "      <td>1.000000</td>\n",
       "    </tr>\n",
       "  </tbody>\n",
       "</table>\n",
       "</div>"
      ]
     },
     "metadata": {},
     "execution_count": 30
    }
   ],
   "metadata": {}
  }
 ],
 "metadata": {
  "orig_nbformat": 4,
  "language_info": {
   "name": "python",
   "version": "3.9.6",
   "mimetype": "text/x-python",
   "codemirror_mode": {
    "name": "ipython",
    "version": 3
   },
   "pygments_lexer": "ipython3",
   "nbconvert_exporter": "python",
   "file_extension": ".py"
  },
  "kernelspec": {
   "name": "python3",
   "display_name": "Python 3.9.6 64-bit"
  },
  "interpreter": {
   "hash": "193e36ad09746479d13aee0c2042906bf70fc39600ae6e96ee3d3b2368cb3fc4"
  }
 },
 "nbformat": 4,
 "nbformat_minor": 2
}