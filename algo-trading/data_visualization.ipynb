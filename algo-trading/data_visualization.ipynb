{
 "cells": [
  {
   "cell_type": "code",
   "execution_count": 1,
   "source": [
    "import matplotlib as mpl\r\n",
    "\r\n",
    "mpl.__version__\r\n",
    "\r\n",
    "import matplotlib.pyplot as plt\r\n",
    "\r\n",
    "plt.style.use('seaborn')\r\n",
    "\r\n",
    "mpl.rcParams['font.family'] = 'serif'\r\n",
    "\r\n",
    "import numpy as np\r\n",
    "\r\n",
    "np.random.seed(1000)\r\n",
    "\r\n",
    "y = np.random.standard_normal(20)\r\n",
    "\r\n",
    "x = np.arange(len(y))\r\n",
    "\r\n",
    "plt.plot(x, y)"
   ],
   "outputs": [
    {
     "output_type": "execute_result",
     "data": {
      "text/plain": [
       "'3.4.2'"
      ]
     },
     "metadata": {},
     "execution_count": 1
    }
   ],
   "metadata": {}
  }
 ],
 "metadata": {
  "orig_nbformat": 4,
  "language_info": {
   "name": "python",
   "version": "3.9.6",
   "mimetype": "text/x-python",
   "codemirror_mode": {
    "name": "ipython",
    "version": 3
   },
   "pygments_lexer": "ipython3",
   "nbconvert_exporter": "python",
   "file_extension": ".py"
  },
  "kernelspec": {
   "name": "python3",
   "display_name": "Python 3.9.6 64-bit"
  },
  "interpreter": {
   "hash": "193e36ad09746479d13aee0c2042906bf70fc39600ae6e96ee3d3b2368cb3fc4"
  }
 },
 "nbformat": 4,
 "nbformat_minor": 2
}