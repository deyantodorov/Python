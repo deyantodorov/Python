{
 "cells": [
  {
   "cell_type": "code",
   "execution_count": 36,
   "source": [
    "import pandas as pd\r\n",
    "import numpy as np\r\n",
    "from pandas_datareader import data\r\n",
    "\r\n",
    "def load_financial_data(start_date, end_date, output_file, ticker):\r\n",
    "    try:\r\n",
    "        df = pd.read_pickle(output_file)\r\n",
    "    except FileNotFoundError:\r\n",
    "        df = data.DataReader(ticker, 'yahoo', start_date, end_date)\r\n",
    "        df.to_pickle(output_file)\r\n",
    "    \r\n",
    "    return df"
   ],
   "outputs": [],
   "metadata": {}
  },
  {
   "cell_type": "code",
   "execution_count": 37,
   "source": [
    "ticker = 'GOOG'\r\n",
    "data = load_financial_data(start_date='2001-01-01', end_date='2018-01-01', output_file= ticker.lower() + '_data_large.pkl', ticker=ticker)"
   ],
   "outputs": [],
   "metadata": {}
  },
  {
   "cell_type": "code",
   "execution_count": 38,
   "source": [
    "def create_classification_trading_condition(df):\r\n",
    "    df['Open-Close'] = df.Open - df.Close\r\n",
    "    df['High-Low'] = df.High - df.Low\r\n",
    "    df = df.dropna()\r\n",
    "    X = df[['Open-Close'], ['High-Low']]\r\n",
    "    Y = np.where(df['Close'].shift(-1) > df['Close'], 1, -1)\r\n",
    "\r\n",
    "    return (X, Y)"
   ],
   "outputs": [],
   "metadata": {}
  },
  {
   "cell_type": "code",
   "execution_count": 39,
   "source": [
    "def create_regression_trading_condition(df):\r\n",
    "    df['Open-Close'] = df.Open - df.Close\r\n",
    "    df['High-Low'] = df.High - df.Low\r\n",
    "    df['Target'] = df['Close'].shift(-1) - df['Close']\r\n",
    "    \r\n",
    "    df = df.dropna()\r\n",
    "    \r\n",
    "    X = df[['Open-Close', 'High-Low']]\r\n",
    "    Y = df[['Target']]\r\n",
    "    \r\n",
    "    return (df, X, Y)"
   ],
   "outputs": [],
   "metadata": {}
  },
  {
   "cell_type": "code",
   "execution_count": 40,
   "source": [
    "from sklearn.model_selection import train_test_split\r\n",
    "\r\n",
    "def create_train_split_group(X, Y, split_ratio=0.8):\r\n",
    "    return train_test_split(X, Y, shuffle=False, train_size=split_ratio)"
   ],
   "outputs": [],
   "metadata": {}
  }
 ],
 "metadata": {
  "orig_nbformat": 4,
  "language_info": {
   "name": "python",
   "version": "3.9.6",
   "mimetype": "text/x-python",
   "codemirror_mode": {
    "name": "ipython",
    "version": 3
   },
   "pygments_lexer": "ipython3",
   "nbconvert_exporter": "python",
   "file_extension": ".py"
  },
  "kernelspec": {
   "name": "python3",
   "display_name": "Python 3.9.6 64-bit"
  },
  "interpreter": {
   "hash": "193e36ad09746479d13aee0c2042906bf70fc39600ae6e96ee3d3b2368cb3fc4"
  }
 },
 "nbformat": 4,
 "nbformat_minor": 2
}