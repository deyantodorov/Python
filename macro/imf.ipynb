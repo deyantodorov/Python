{
 "cells": [
  {
   "cell_type": "code",
   "execution_count": 2,
   "metadata": {},
   "outputs": [],
   "source": [
    "import requests"
   ]
  },
  {
   "cell_type": "markdown",
   "metadata": {},
   "source": [
    "### International Monetary Fund\n",
    "https://datahelp.imf.org/knowledgebase/articles/667681-using-json-restful-web-service"
   ]
  },
  {
   "cell_type": "code",
   "execution_count": 4,
   "metadata": {},
   "outputs": [
    {
     "name": "stdout",
     "output_type": "stream",
     "text": [
      "{'@TIME_PERIOD': '2019-06', '@OBS_VALUE': '107.3385518591'}\n"
     ]
    }
   ],
   "source": [
    "url = 'http://dataservices.imf.org/REST/SDMX_JSON.svc/'\n",
    "key = 'CompactData/IFS/M.GB.PMP_IX'\n",
    "data = (requests.get(f'{url}{key}').json()['CompactData']['DataSet']['Series'])\n",
    "print(data['Obs'][-1])\n"
   ]
  }
 ],
 "metadata": {
  "interpreter": {
   "hash": "0a9d4de6e1ab63339d0ceac3c03247c83c1c116898bd686e61b5b9135de399db"
  },
  "kernelspec": {
   "display_name": "Python 3.9.7 ('base')",
   "language": "python",
   "name": "python3"
  },
  "language_info": {
   "codemirror_mode": {
    "name": "ipython",
    "version": 3
   },
   "file_extension": ".py",
   "mimetype": "text/x-python",
   "name": "python",
   "nbconvert_exporter": "python",
   "pygments_lexer": "ipython3",
   "version": "3.9.7"
  },
  "orig_nbformat": 4
 },
 "nbformat": 4,
 "nbformat_minor": 2
}
