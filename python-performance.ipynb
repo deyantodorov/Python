{
 "cells": [
  {
   "cell_type": "markdown",
   "metadata": {},
   "source": [
    "### Why we should avoid for loop in Python"
   ]
  },
  {
   "cell_type": "code",
   "execution_count": 1,
   "metadata": {},
   "outputs": [
    {
     "name": "stdout",
     "output_type": "stream",
     "text": [
      "Sum: 4999999950000000\n",
      "For loop: 15.92725920677185 seconds.\n"
     ]
    }
   ],
   "source": [
    "import time\n",
    "\n",
    "# for loop\n",
    "start = time.time()\n",
    "\n",
    "total_sum = 0\n",
    "\n",
    "for i in range(100000000):\n",
    "    total_sum += i\n",
    "\n",
    "print(f'Sum: {total_sum}')\n",
    "print(f'For loop: {time.time() - start} seconds.')"
   ]
  },
  {
   "cell_type": "code",
   "execution_count": 2,
   "metadata": {},
   "outputs": [
    {
     "name": "stdout",
     "output_type": "stream",
     "text": [
      "Sum: 4999999950000000\n",
      "For loop: 2.5935287475585938 seconds.\n"
     ]
    }
   ],
   "source": [
    "import time\n",
    "\n",
    "# sum/range\n",
    "start = time.time()\n",
    "\n",
    "total_sum = sum(range(100000000))\n",
    "\n",
    "print(f'Sum: {total_sum}')\n",
    "print(f'For loop: {time.time() - start} seconds.')"
   ]
  },
  {
   "cell_type": "code",
   "execution_count": 3,
   "metadata": {},
   "outputs": [
    {
     "name": "stdout",
     "output_type": "stream",
     "text": [
      "Sum: 4999999950000000\n",
      "For loop: 0.5677950382232666 seconds.\n"
     ]
    }
   ],
   "source": [
    "import numpy as np\n",
    "import time\n",
    "\n",
    "# Numpy\n",
    "start = time.time()\n",
    "\n",
    "total_sum = np.sum(np.arange(100000000))\n",
    "\n",
    "print(f'Sum: {total_sum}')\n",
    "print(f'For loop: {time.time() - start} seconds.')\n"
   ]
  }
 ],
 "metadata": {
  "kernelspec": {
   "display_name": "Python 3.9.7 ('base')",
   "language": "python",
   "name": "python3"
  },
  "language_info": {
   "codemirror_mode": {
    "name": "ipython",
    "version": 3
   },
   "file_extension": ".py",
   "mimetype": "text/x-python",
   "name": "python",
   "nbconvert_exporter": "python",
   "pygments_lexer": "ipython3",
   "version": "3.9.7"
  },
  "orig_nbformat": 4,
  "vscode": {
   "interpreter": {
    "hash": "0a9d4de6e1ab63339d0ceac3c03247c83c1c116898bd686e61b5b9135de399db"
   }
  }
 },
 "nbformat": 4,
 "nbformat_minor": 2
}
