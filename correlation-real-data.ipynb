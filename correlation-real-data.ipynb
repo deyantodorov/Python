{
 "cells": [
  {
   "attachments": {},
   "cell_type": "markdown",
   "metadata": {},
   "source": [
    "### Sample for correlation using Alpha Vantage API\n",
    "The closer the number is to +1, the stronger the relationship. If the figure is close to -1, it indicates that there is a strong inverse relationship.\n",
    "The closer the correlation coefficient is to 0, the more likely it is that the two variables being compared don’t have any relationship to each other."
   ]
  },
  {
   "cell_type": "code",
   "execution_count": 55,
   "metadata": {},
   "outputs": [
    {
     "data": {
      "text/plain": [
       "'3AEV6D848GYHIB3F'"
      ]
     },
     "execution_count": 55,
     "metadata": {},
     "output_type": "execute_result"
    }
   ],
   "source": [
    "import os\n",
    "from dotenv import load_dotenv\n",
    "\n",
    "load_dotenv()\n",
    "\n",
    "ALPHAVANTAGE_API_KEY = os.getenv('ALPHAVANTAGE_API_KEY')\n",
    "ALPHAVANTAGE_API_KEY\n"
   ]
  },
  {
   "cell_type": "code",
   "execution_count": 56,
   "metadata": {},
   "outputs": [
    {
     "data": {
      "text/html": [
       "<div>\n",
       "<style scoped>\n",
       "    .dataframe tbody tr th:only-of-type {\n",
       "        vertical-align: middle;\n",
       "    }\n",
       "\n",
       "    .dataframe tbody tr th {\n",
       "        vertical-align: top;\n",
       "    }\n",
       "\n",
       "    .dataframe thead th {\n",
       "        text-align: right;\n",
       "    }\n",
       "</style>\n",
       "<table border=\"1\" class=\"dataframe\">\n",
       "  <thead>\n",
       "    <tr style=\"text-align: right;\">\n",
       "      <th></th>\n",
       "      <th>0</th>\n",
       "      <th>1</th>\n",
       "      <th>2</th>\n",
       "      <th>3</th>\n",
       "      <th>4</th>\n",
       "    </tr>\n",
       "  </thead>\n",
       "  <tbody>\n",
       "    <tr>\n",
       "      <th>0</th>\n",
       "      <td>AAPL</td>\n",
       "      <td>MSFT</td>\n",
       "      <td>GOOGL</td>\n",
       "      <td>AMZN</td>\n",
       "      <td>SPY</td>\n",
       "    </tr>\n",
       "  </tbody>\n",
       "</table>\n",
       "</div>"
      ],
      "text/plain": [
       "      0     1      2     3    4\n",
       "0  AAPL  MSFT  GOOGL  AMZN  SPY"
      ]
     },
     "execution_count": 56,
     "metadata": {},
     "output_type": "execute_result"
    }
   ],
   "source": [
    "import pandas as pd\n",
    "from alpha_vantage.timeseries import TimeSeries\n",
    "\n",
    "watchlist_df = pd.read_csv('watchlist.csv', header=None)\n",
    "watchlist_df"
   ]
  },
  {
   "cell_type": "code",
   "execution_count": 57,
   "metadata": {},
   "outputs": [
    {
     "data": {
      "text/plain": [
       "['AAPL', 'MSFT', 'GOOGL', 'AMZN', 'SPY']"
      ]
     },
     "execution_count": 57,
     "metadata": {},
     "output_type": "execute_result"
    }
   ],
   "source": [
    "watchlist = watchlist_df.iloc[0].tolist()\n",
    "watchlist"
   ]
  },
  {
   "cell_type": "code",
   "execution_count": 58,
   "metadata": {},
   "outputs": [],
   "source": [
    "app = TimeSeries(output_format='pandas')"
   ]
  },
  {
   "cell_type": "code",
   "execution_count": 59,
   "metadata": {},
   "outputs": [],
   "source": [
    "stocks_df = pd.DataFrame()\n",
    "for ticker in watchlist:\n",
    "    alphav_df = app.get_daily_adjusted(ticker)\n",
    "    alphav_df = alphav_df[0]\n",
    "    alphav_df.columns = [i.split(' ')[1] for i in alphav_df.columns]\n",
    "    stocks_df[ticker] = alphav_df['adjusted'].pct_change()"
   ]
  },
  {
   "cell_type": "code",
   "execution_count": 60,
   "metadata": {},
   "outputs": [
    {
     "data": {
      "text/html": [
       "<div>\n",
       "<style scoped>\n",
       "    .dataframe tbody tr th:only-of-type {\n",
       "        vertical-align: middle;\n",
       "    }\n",
       "\n",
       "    .dataframe tbody tr th {\n",
       "        vertical-align: top;\n",
       "    }\n",
       "\n",
       "    .dataframe thead th {\n",
       "        text-align: right;\n",
       "    }\n",
       "</style>\n",
       "<table border=\"1\" class=\"dataframe\">\n",
       "  <thead>\n",
       "    <tr style=\"text-align: right;\">\n",
       "      <th></th>\n",
       "      <th>AAPL</th>\n",
       "      <th>MSFT</th>\n",
       "      <th>GOOGL</th>\n",
       "      <th>AMZN</th>\n",
       "      <th>SPY</th>\n",
       "    </tr>\n",
       "    <tr>\n",
       "      <th>date</th>\n",
       "      <th></th>\n",
       "      <th></th>\n",
       "      <th></th>\n",
       "      <th></th>\n",
       "      <th></th>\n",
       "    </tr>\n",
       "  </thead>\n",
       "  <tbody>\n",
       "    <tr>\n",
       "      <th>2023-02-28</th>\n",
       "      <td>NaN</td>\n",
       "      <td>NaN</td>\n",
       "      <td>NaN</td>\n",
       "      <td>NaN</td>\n",
       "      <td>NaN</td>\n",
       "    </tr>\n",
       "    <tr>\n",
       "      <th>2023-02-27</th>\n",
       "      <td>0.003460</td>\n",
       "      <td>0.002967</td>\n",
       "      <td>-0.002110</td>\n",
       "      <td>-0.004988</td>\n",
       "      <td>0.003710</td>\n",
       "    </tr>\n",
       "    <tr>\n",
       "      <th>2023-02-24</th>\n",
       "      <td>-0.008180</td>\n",
       "      <td>-0.003758</td>\n",
       "      <td>-0.008234</td>\n",
       "      <td>-0.002773</td>\n",
       "      <td>-0.003394</td>\n",
       "    </tr>\n",
       "    <tr>\n",
       "      <th>2023-02-23</th>\n",
       "      <td>0.018335</td>\n",
       "      <td>0.022269</td>\n",
       "      <td>0.019746</td>\n",
       "      <td>0.024813</td>\n",
       "      <td>0.010798</td>\n",
       "    </tr>\n",
       "    <tr>\n",
       "      <th>2023-02-22</th>\n",
       "      <td>-0.003280</td>\n",
       "      <td>-0.012796</td>\n",
       "      <td>0.008362</td>\n",
       "      <td>-0.000313</td>\n",
       "      <td>-0.005291</td>\n",
       "    </tr>\n",
       "    <tr>\n",
       "      <th>...</th>\n",
       "      <td>...</td>\n",
       "      <td>...</td>\n",
       "      <td>...</td>\n",
       "      <td>...</td>\n",
       "      <td>...</td>\n",
       "    </tr>\n",
       "    <tr>\n",
       "      <th>2022-10-11</th>\n",
       "      <td>0.004626</td>\n",
       "      <td>-0.001506</td>\n",
       "      <td>-0.003895</td>\n",
       "      <td>-0.006112</td>\n",
       "      <td>0.003309</td>\n",
       "    </tr>\n",
       "    <tr>\n",
       "      <th>2022-10-10</th>\n",
       "      <td>0.010361</td>\n",
       "      <td>0.017036</td>\n",
       "      <td>0.006997</td>\n",
       "      <td>0.013011</td>\n",
       "      <td>0.006373</td>\n",
       "    </tr>\n",
       "    <tr>\n",
       "      <th>2022-10-07</th>\n",
       "      <td>-0.002350</td>\n",
       "      <td>0.021767</td>\n",
       "      <td>0.008379</td>\n",
       "      <td>0.007830</td>\n",
       "      <td>0.007694</td>\n",
       "    </tr>\n",
       "    <tr>\n",
       "      <th>2022-10-06</th>\n",
       "      <td>0.038118</td>\n",
       "      <td>0.053578</td>\n",
       "      <td>0.027767</td>\n",
       "      <td>0.050105</td>\n",
       "      <td>0.028694</td>\n",
       "    </tr>\n",
       "    <tr>\n",
       "      <th>2022-10-05</th>\n",
       "      <td>0.006670</td>\n",
       "      <td>0.009765</td>\n",
       "      <td>0.000099</td>\n",
       "      <td>0.005403</td>\n",
       "      <td>0.010423</td>\n",
       "    </tr>\n",
       "  </tbody>\n",
       "</table>\n",
       "<p>100 rows × 5 columns</p>\n",
       "</div>"
      ],
      "text/plain": [
       "                AAPL      MSFT     GOOGL      AMZN       SPY\n",
       "date                                                        \n",
       "2023-02-28       NaN       NaN       NaN       NaN       NaN\n",
       "2023-02-27  0.003460  0.002967 -0.002110 -0.004988  0.003710\n",
       "2023-02-24 -0.008180 -0.003758 -0.008234 -0.002773 -0.003394\n",
       "2023-02-23  0.018335  0.022269  0.019746  0.024813  0.010798\n",
       "2023-02-22 -0.003280 -0.012796  0.008362 -0.000313 -0.005291\n",
       "...              ...       ...       ...       ...       ...\n",
       "2022-10-11  0.004626 -0.001506 -0.003895 -0.006112  0.003309\n",
       "2022-10-10  0.010361  0.017036  0.006997  0.013011  0.006373\n",
       "2022-10-07 -0.002350  0.021767  0.008379  0.007830  0.007694\n",
       "2022-10-06  0.038118  0.053578  0.027767  0.050105  0.028694\n",
       "2022-10-05  0.006670  0.009765  0.000099  0.005403  0.010423\n",
       "\n",
       "[100 rows x 5 columns]"
      ]
     },
     "execution_count": 60,
     "metadata": {},
     "output_type": "execute_result"
    }
   ],
   "source": [
    "stocks_df"
   ]
  },
  {
   "cell_type": "code",
   "execution_count": 61,
   "metadata": {},
   "outputs": [
    {
     "data": {
      "text/plain": [
       "0.7593807589578225"
      ]
     },
     "execution_count": 61,
     "metadata": {},
     "output_type": "execute_result"
    }
   ],
   "source": [
    "stocks_df.AAPL.corr(stocks_df.MSFT)"
   ]
  },
  {
   "cell_type": "code",
   "execution_count": 62,
   "metadata": {},
   "outputs": [
    {
     "data": {
      "text/html": [
       "<div>\n",
       "<style scoped>\n",
       "    .dataframe tbody tr th:only-of-type {\n",
       "        vertical-align: middle;\n",
       "    }\n",
       "\n",
       "    .dataframe tbody tr th {\n",
       "        vertical-align: top;\n",
       "    }\n",
       "\n",
       "    .dataframe thead th {\n",
       "        text-align: right;\n",
       "    }\n",
       "</style>\n",
       "<table border=\"1\" class=\"dataframe\">\n",
       "  <thead>\n",
       "    <tr style=\"text-align: right;\">\n",
       "      <th></th>\n",
       "      <th>AAPL</th>\n",
       "      <th>MSFT</th>\n",
       "      <th>GOOGL</th>\n",
       "      <th>AMZN</th>\n",
       "      <th>SPY</th>\n",
       "    </tr>\n",
       "  </thead>\n",
       "  <tbody>\n",
       "    <tr>\n",
       "      <th>AAPL</th>\n",
       "      <td>1.000000</td>\n",
       "      <td>0.759381</td>\n",
       "      <td>0.732467</td>\n",
       "      <td>0.574674</td>\n",
       "      <td>0.870764</td>\n",
       "    </tr>\n",
       "    <tr>\n",
       "      <th>MSFT</th>\n",
       "      <td>0.759381</td>\n",
       "      <td>1.000000</td>\n",
       "      <td>0.818772</td>\n",
       "      <td>0.708069</td>\n",
       "      <td>0.850076</td>\n",
       "    </tr>\n",
       "    <tr>\n",
       "      <th>GOOGL</th>\n",
       "      <td>0.732467</td>\n",
       "      <td>0.818772</td>\n",
       "      <td>1.000000</td>\n",
       "      <td>0.700026</td>\n",
       "      <td>0.738931</td>\n",
       "    </tr>\n",
       "    <tr>\n",
       "      <th>AMZN</th>\n",
       "      <td>0.574674</td>\n",
       "      <td>0.708069</td>\n",
       "      <td>0.700026</td>\n",
       "      <td>1.000000</td>\n",
       "      <td>0.727748</td>\n",
       "    </tr>\n",
       "    <tr>\n",
       "      <th>SPY</th>\n",
       "      <td>0.870764</td>\n",
       "      <td>0.850076</td>\n",
       "      <td>0.738931</td>\n",
       "      <td>0.727748</td>\n",
       "      <td>1.000000</td>\n",
       "    </tr>\n",
       "  </tbody>\n",
       "</table>\n",
       "</div>"
      ],
      "text/plain": [
       "           AAPL      MSFT     GOOGL      AMZN       SPY\n",
       "AAPL   1.000000  0.759381  0.732467  0.574674  0.870764\n",
       "MSFT   0.759381  1.000000  0.818772  0.708069  0.850076\n",
       "GOOGL  0.732467  0.818772  1.000000  0.700026  0.738931\n",
       "AMZN   0.574674  0.708069  0.700026  1.000000  0.727748\n",
       "SPY    0.870764  0.850076  0.738931  0.727748  1.000000"
      ]
     },
     "execution_count": 62,
     "metadata": {},
     "output_type": "execute_result"
    }
   ],
   "source": [
    "stocks_df.corr(method='pearson')\n"
   ]
  },
  {
   "cell_type": "code",
   "execution_count": 63,
   "metadata": {},
   "outputs": [
    {
     "data": {
      "text/html": [
       "<div>\n",
       "<style scoped>\n",
       "    .dataframe tbody tr th:only-of-type {\n",
       "        vertical-align: middle;\n",
       "    }\n",
       "\n",
       "    .dataframe tbody tr th {\n",
       "        vertical-align: top;\n",
       "    }\n",
       "\n",
       "    .dataframe thead th {\n",
       "        text-align: right;\n",
       "    }\n",
       "</style>\n",
       "<table border=\"1\" class=\"dataframe\">\n",
       "  <thead>\n",
       "    <tr style=\"text-align: right;\">\n",
       "      <th></th>\n",
       "      <th>AAPL</th>\n",
       "      <th>MSFT</th>\n",
       "      <th>GOOGL</th>\n",
       "      <th>AMZN</th>\n",
       "      <th>SPY</th>\n",
       "    </tr>\n",
       "  </thead>\n",
       "  <tbody>\n",
       "    <tr>\n",
       "      <th>AAPL</th>\n",
       "      <td>1.000000</td>\n",
       "      <td>0.768287</td>\n",
       "      <td>0.761806</td>\n",
       "      <td>0.666456</td>\n",
       "      <td>0.852344</td>\n",
       "    </tr>\n",
       "    <tr>\n",
       "      <th>MSFT</th>\n",
       "      <td>0.768287</td>\n",
       "      <td>1.000000</td>\n",
       "      <td>0.816858</td>\n",
       "      <td>0.747446</td>\n",
       "      <td>0.894397</td>\n",
       "    </tr>\n",
       "    <tr>\n",
       "      <th>GOOGL</th>\n",
       "      <td>0.761806</td>\n",
       "      <td>0.816858</td>\n",
       "      <td>1.000000</td>\n",
       "      <td>0.765751</td>\n",
       "      <td>0.788732</td>\n",
       "    </tr>\n",
       "    <tr>\n",
       "      <th>AMZN</th>\n",
       "      <td>0.666456</td>\n",
       "      <td>0.747446</td>\n",
       "      <td>0.765751</td>\n",
       "      <td>1.000000</td>\n",
       "      <td>0.763043</td>\n",
       "    </tr>\n",
       "    <tr>\n",
       "      <th>SPY</th>\n",
       "      <td>0.852344</td>\n",
       "      <td>0.894397</td>\n",
       "      <td>0.788732</td>\n",
       "      <td>0.763043</td>\n",
       "      <td>1.000000</td>\n",
       "    </tr>\n",
       "  </tbody>\n",
       "</table>\n",
       "</div>"
      ],
      "text/plain": [
       "           AAPL      MSFT     GOOGL      AMZN       SPY\n",
       "AAPL   1.000000  0.768287  0.761806  0.666456  0.852344\n",
       "MSFT   0.768287  1.000000  0.816858  0.747446  0.894397\n",
       "GOOGL  0.761806  0.816858  1.000000  0.765751  0.788732\n",
       "AMZN   0.666456  0.747446  0.765751  1.000000  0.763043\n",
       "SPY    0.852344  0.894397  0.788732  0.763043  1.000000"
      ]
     },
     "execution_count": 63,
     "metadata": {},
     "output_type": "execute_result"
    }
   ],
   "source": [
    "stocks_df.corr(method='spearman')"
   ]
  },
  {
   "cell_type": "code",
   "execution_count": 64,
   "metadata": {},
   "outputs": [
    {
     "data": {
      "text/html": [
       "<div>\n",
       "<style scoped>\n",
       "    .dataframe tbody tr th:only-of-type {\n",
       "        vertical-align: middle;\n",
       "    }\n",
       "\n",
       "    .dataframe tbody tr th {\n",
       "        vertical-align: top;\n",
       "    }\n",
       "\n",
       "    .dataframe thead th {\n",
       "        text-align: right;\n",
       "    }\n",
       "</style>\n",
       "<table border=\"1\" class=\"dataframe\">\n",
       "  <thead>\n",
       "    <tr style=\"text-align: right;\">\n",
       "      <th></th>\n",
       "      <th>AAPL</th>\n",
       "      <th>MSFT</th>\n",
       "      <th>GOOGL</th>\n",
       "      <th>AMZN</th>\n",
       "      <th>SPY</th>\n",
       "    </tr>\n",
       "  </thead>\n",
       "  <tbody>\n",
       "    <tr>\n",
       "      <th>AAPL</th>\n",
       "      <td>1.000000</td>\n",
       "      <td>0.595960</td>\n",
       "      <td>0.584003</td>\n",
       "      <td>0.527932</td>\n",
       "      <td>0.685013</td>\n",
       "    </tr>\n",
       "    <tr>\n",
       "      <th>MSFT</th>\n",
       "      <td>0.595960</td>\n",
       "      <td>1.000000</td>\n",
       "      <td>0.636776</td>\n",
       "      <td>0.563389</td>\n",
       "      <td>0.730365</td>\n",
       "    </tr>\n",
       "    <tr>\n",
       "      <th>GOOGL</th>\n",
       "      <td>0.584003</td>\n",
       "      <td>0.636776</td>\n",
       "      <td>1.000000</td>\n",
       "      <td>0.607504</td>\n",
       "      <td>0.584828</td>\n",
       "    </tr>\n",
       "    <tr>\n",
       "      <th>AMZN</th>\n",
       "      <td>0.527932</td>\n",
       "      <td>0.563389</td>\n",
       "      <td>0.607504</td>\n",
       "      <td>1.000000</td>\n",
       "      <td>0.586477</td>\n",
       "    </tr>\n",
       "    <tr>\n",
       "      <th>SPY</th>\n",
       "      <td>0.685013</td>\n",
       "      <td>0.730365</td>\n",
       "      <td>0.584828</td>\n",
       "      <td>0.586477</td>\n",
       "      <td>1.000000</td>\n",
       "    </tr>\n",
       "  </tbody>\n",
       "</table>\n",
       "</div>"
      ],
      "text/plain": [
       "           AAPL      MSFT     GOOGL      AMZN       SPY\n",
       "AAPL   1.000000  0.595960  0.584003  0.527932  0.685013\n",
       "MSFT   0.595960  1.000000  0.636776  0.563389  0.730365\n",
       "GOOGL  0.584003  0.636776  1.000000  0.607504  0.584828\n",
       "AMZN   0.527932  0.563389  0.607504  1.000000  0.586477\n",
       "SPY    0.685013  0.730365  0.584828  0.586477  1.000000"
      ]
     },
     "execution_count": 64,
     "metadata": {},
     "output_type": "execute_result"
    }
   ],
   "source": [
    "stocks_df.corr(method='kendall')"
   ]
  },
  {
   "cell_type": "code",
   "execution_count": 65,
   "metadata": {},
   "outputs": [
    {
     "data": {
      "image/png": "[encoded data removed]",
      "text/plain": [
       "<Figure size 432x288 with 2 Axes>"
      ]
     },
     "metadata": {
      "needs_background": "light"
     },
     "output_type": "display_data"
    }
   ],
   "source": [
    "import seaborn as sns\n",
    "import matplotlib.pyplot as plt\n",
    "\n",
    "ax = sns.heatmap(stocks_df.corr(), cmap='RdYlGn', linewidths=.1)\n",
    "plt.show()\n"
   ]
  },
  {
   "cell_type": "code",
   "execution_count": 66,
   "metadata": {},
   "outputs": [
    {
     "data": {
      "text/html": [
       "<div>\n",
       "<style scoped>\n",
       "    .dataframe tbody tr th:only-of-type {\n",
       "        vertical-align: middle;\n",
       "    }\n",
       "\n",
       "    .dataframe tbody tr th {\n",
       "        vertical-align: top;\n",
       "    }\n",
       "\n",
       "    .dataframe thead th {\n",
       "        text-align: right;\n",
       "    }\n",
       "</style>\n",
       "<table border=\"1\" class=\"dataframe\">\n",
       "  <thead>\n",
       "    <tr style=\"text-align: right;\">\n",
       "      <th></th>\n",
       "      <th>AAPL</th>\n",
       "      <th>MSFT</th>\n",
       "      <th>GOOGL</th>\n",
       "      <th>AMZN</th>\n",
       "      <th>SPY</th>\n",
       "    </tr>\n",
       "  </thead>\n",
       "  <tbody>\n",
       "    <tr>\n",
       "      <th>AAPL</th>\n",
       "      <td>0.000486</td>\n",
       "      <td>0.000395</td>\n",
       "      <td>0.000432</td>\n",
       "      <td>0.000375</td>\n",
       "      <td>0.000257</td>\n",
       "    </tr>\n",
       "    <tr>\n",
       "      <th>MSFT</th>\n",
       "      <td>0.000395</td>\n",
       "      <td>0.000558</td>\n",
       "      <td>0.000518</td>\n",
       "      <td>0.000495</td>\n",
       "      <td>0.000269</td>\n",
       "    </tr>\n",
       "    <tr>\n",
       "      <th>GOOGL</th>\n",
       "      <td>0.000432</td>\n",
       "      <td>0.000518</td>\n",
       "      <td>0.000717</td>\n",
       "      <td>0.000555</td>\n",
       "      <td>0.000265</td>\n",
       "    </tr>\n",
       "    <tr>\n",
       "      <th>AMZN</th>\n",
       "      <td>0.000375</td>\n",
       "      <td>0.000495</td>\n",
       "      <td>0.000555</td>\n",
       "      <td>0.000877</td>\n",
       "      <td>0.000288</td>\n",
       "    </tr>\n",
       "    <tr>\n",
       "      <th>SPY</th>\n",
       "      <td>0.000257</td>\n",
       "      <td>0.000269</td>\n",
       "      <td>0.000265</td>\n",
       "      <td>0.000288</td>\n",
       "      <td>0.000179</td>\n",
       "    </tr>\n",
       "  </tbody>\n",
       "</table>\n",
       "</div>"
      ],
      "text/plain": [
       "           AAPL      MSFT     GOOGL      AMZN       SPY\n",
       "AAPL   0.000486  0.000395  0.000432  0.000375  0.000257\n",
       "MSFT   0.000395  0.000558  0.000518  0.000495  0.000269\n",
       "GOOGL  0.000432  0.000518  0.000717  0.000555  0.000265\n",
       "AMZN   0.000375  0.000495  0.000555  0.000877  0.000288\n",
       "SPY    0.000257  0.000269  0.000265  0.000288  0.000179"
      ]
     },
     "execution_count": 66,
     "metadata": {},
     "output_type": "execute_result"
    }
   ],
   "source": [
    "stocks_df.cov()"
   ]
  }
 ],
 "metadata": {
  "kernelspec": {
   "display_name": "base",
   "language": "python",
   "name": "python3"
  },
  "language_info": {
   "codemirror_mode": {
    "name": "ipython",
    "version": 3
   },
   "file_extension": ".py",
   "mimetype": "text/x-python",
   "name": "python",
   "nbconvert_exporter": "python",
   "pygments_lexer": "ipython3",
   "version": "3.9.7"
  },
  "orig_nbformat": 4,
  "vscode": {
   "interpreter": {
    "hash": "0a9d4de6e1ab63339d0ceac3c03247c83c1c116898bd686e61b5b9135de399db"
   }
  }
 },
 "nbformat": 4,
 "nbformat_minor": 2
}
