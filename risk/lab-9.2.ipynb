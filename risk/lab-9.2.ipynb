{
 "cells": [
  {
   "cell_type": "markdown",
   "metadata": {},
   "source": [
    "Implementing Portfolio Insurance (CPPI) and Drawdown Constraints"
   ]
  },
  {
   "cell_type": "code",
   "execution_count": 1,
   "metadata": {},
   "outputs": [],
   "source": [
    "%load_ext autoreload\n",
    "%autoreload 2\n",
    "%matplotlib inline\n",
    "\n",
    "import risk_tools as rt\n",
    "import pandas as pd\n",
    "import numpy as np"
   ]
  },
  {
   "cell_type": "code",
   "execution_count": 4,
   "metadata": {},
   "outputs": [],
   "source": [
    "ind_return = rt.get_ind_returns()\n",
    "tmi_return = rt.get_total_market_index_returns()"
   ]
  },
  {
   "cell_type": "code",
   "execution_count": 9,
   "metadata": {},
   "outputs": [
    {
     "data": {
      "text/plain": [
       "(228, 3)"
      ]
     },
     "execution_count": 9,
     "metadata": {},
     "output_type": "execute_result"
    }
   ],
   "source": [
    "risky_return = ind_return['2000':][['Steel', 'Fin', 'Beer']]\n",
    "risky_return.shape"
   ]
  },
  {
   "cell_type": "code",
   "execution_count": 10,
   "metadata": {},
   "outputs": [
    {
     "data": {
      "text/plain": [
       "(228, 3)"
      ]
     },
     "execution_count": 10,
     "metadata": {},
     "output_type": "execute_result"
    }
   ],
   "source": [
    "safe_return = pd.DataFrame().reindex_like(risky_return)\n",
    "safe_return.shape"
   ]
  },
  {
   "cell_type": "code",
   "execution_count": 12,
   "metadata": {},
   "outputs": [
    {
     "data": {
      "text/html": [
       "<div>\n",
       "<style scoped>\n",
       "    .dataframe tbody tr th:only-of-type {\n",
       "        vertical-align: middle;\n",
       "    }\n",
       "\n",
       "    .dataframe tbody tr th {\n",
       "        vertical-align: top;\n",
       "    }\n",
       "\n",
       "    .dataframe thead th {\n",
       "        text-align: right;\n",
       "    }\n",
       "</style>\n",
       "<table border=\"1\" class=\"dataframe\">\n",
       "  <thead>\n",
       "    <tr style=\"text-align: right;\">\n",
       "      <th></th>\n",
       "      <th>Steel</th>\n",
       "      <th>Fin</th>\n",
       "      <th>Beer</th>\n",
       "    </tr>\n",
       "  </thead>\n",
       "  <tbody>\n",
       "    <tr>\n",
       "      <th>2000-01</th>\n",
       "      <td>0.0025</td>\n",
       "      <td>0.0025</td>\n",
       "      <td>0.0025</td>\n",
       "    </tr>\n",
       "    <tr>\n",
       "      <th>2000-02</th>\n",
       "      <td>0.0025</td>\n",
       "      <td>0.0025</td>\n",
       "      <td>0.0025</td>\n",
       "    </tr>\n",
       "    <tr>\n",
       "      <th>2000-03</th>\n",
       "      <td>0.0025</td>\n",
       "      <td>0.0025</td>\n",
       "      <td>0.0025</td>\n",
       "    </tr>\n",
       "    <tr>\n",
       "      <th>2000-04</th>\n",
       "      <td>0.0025</td>\n",
       "      <td>0.0025</td>\n",
       "      <td>0.0025</td>\n",
       "    </tr>\n",
       "    <tr>\n",
       "      <th>2000-05</th>\n",
       "      <td>0.0025</td>\n",
       "      <td>0.0025</td>\n",
       "      <td>0.0025</td>\n",
       "    </tr>\n",
       "  </tbody>\n",
       "</table>\n",
       "</div>"
      ],
      "text/plain": [
       "          Steel     Fin    Beer\n",
       "2000-01  0.0025  0.0025  0.0025\n",
       "2000-02  0.0025  0.0025  0.0025\n",
       "2000-03  0.0025  0.0025  0.0025\n",
       "2000-04  0.0025  0.0025  0.0025\n",
       "2000-05  0.0025  0.0025  0.0025"
      ]
     },
     "execution_count": 12,
     "metadata": {},
     "output_type": "execute_result"
    }
   ],
   "source": [
    "safe_return[:] = 0.03/12\n",
    "safe_return.head()"
   ]
  },
  {
   "cell_type": "code",
   "execution_count": 13,
   "metadata": {},
   "outputs": [],
   "source": [
    "start = 1000 # 1000 USD\n",
    "floor = 0.8 # 80% is my floor"
   ]
  },
  {
   "cell_type": "code",
   "execution_count": 14,
   "metadata": {},
   "outputs": [],
   "source": [
    "# 1. Cushion - (Asset Value - Floor Value)\n",
    "# 2. Compute allocation to the safe and risky assets -> m * risk_budget\n",
    "# 3. Recompute the asset value based on the returns"
   ]
  },
  {
   "cell_type": "code",
   "execution_count": 25,
   "metadata": {},
   "outputs": [],
   "source": [
    "dates = risky_return.index\n",
    "number_steps = len(dates)\n",
    "account_value = start\n",
    "floor_value = start * floor\n",
    "multiplyer = 3\n",
    "\n",
    "account_history = pd.DataFrame().reindex_like(risky_return)\n",
    "cushion_history = pd.DataFrame().reindex_like(risky_return)\n",
    "risky_weight_history = pd.DataFrame().reindex_like(risky_return)\n"
   ]
  },
  {
   "cell_type": "code",
   "execution_count": 26,
   "metadata": {},
   "outputs": [],
   "source": [
    "for step in range(number_steps):\n",
    "    cushion = (account_value - floor_value) / account_value # risk budget\n",
    "    risky_weight = multiplyer * cushion\n",
    "\n",
    "    # don't go above 100% and bellow 0%\n",
    "    risky_weight = np.minimum(risky_weight, 1)\n",
    "    risky_weight = np.maximum(risky_weight, 0)\n",
    "\n",
    "    safe_weight = 1 - risky_weight\n",
    "\n",
    "    risky_allocation = account_value * risky_weight\n",
    "    safe_allocation = account_value * safe_weight\n",
    "\n",
    "    # update the account value for this account step\n",
    "    account_value = (risky_allocation * (1 + risky_return.iloc[step])) + (safe_allocation * ( 1+ safe_return.iloc[step]))\n",
    "\n",
    "    # save the value to be able to plot it\n",
    "    cushion_history.iloc[step] = cushion\n",
    "    risky_weight_history.iloc[step] = risky_weight\n",
    "    account_history.iloc[step] = account_value\n"
   ]
  },
  {
   "cell_type": "code",
   "execution_count": 27,
   "metadata": {},
   "outputs": [
    {
     "data": {
      "text/html": [
       "<div>\n",
       "<style scoped>\n",
       "    .dataframe tbody tr th:only-of-type {\n",
       "        vertical-align: middle;\n",
       "    }\n",
       "\n",
       "    .dataframe tbody tr th {\n",
       "        vertical-align: top;\n",
       "    }\n",
       "\n",
       "    .dataframe thead th {\n",
       "        text-align: right;\n",
       "    }\n",
       "</style>\n",
       "<table border=\"1\" class=\"dataframe\">\n",
       "  <thead>\n",
       "    <tr style=\"text-align: right;\">\n",
       "      <th></th>\n",
       "      <th>Steel</th>\n",
       "      <th>Fin</th>\n",
       "      <th>Beer</th>\n",
       "    </tr>\n",
       "  </thead>\n",
       "  <tbody>\n",
       "    <tr>\n",
       "      <th>2000-01</th>\n",
       "      <td>984.380000</td>\n",
       "      <td>974.480000</td>\n",
       "      <td>987.320000</td>\n",
       "    </tr>\n",
       "    <tr>\n",
       "      <th>2000-02</th>\n",
       "      <td>1023.292876</td>\n",
       "      <td>931.167544</td>\n",
       "      <td>922.971256</td>\n",
       "    </tr>\n",
       "    <tr>\n",
       "      <th>2000-03</th>\n",
       "      <td>1047.555176</td>\n",
       "      <td>998.187296</td>\n",
       "      <td>924.835988</td>\n",
       "    </tr>\n",
       "    <tr>\n",
       "      <th>2000-04</th>\n",
       "      <td>1042.079009</td>\n",
       "      <td>973.927479</td>\n",
       "      <td>939.993701</td>\n",
       "    </tr>\n",
       "    <tr>\n",
       "      <th>2000-05</th>\n",
       "      <td>1007.137753</td>\n",
       "      <td>1001.460033</td>\n",
       "      <td>991.145489</td>\n",
       "    </tr>\n",
       "  </tbody>\n",
       "</table>\n",
       "</div>"
      ],
      "text/plain": [
       "               Steel          Fin        Beer\n",
       "2000-01   984.380000   974.480000  987.320000\n",
       "2000-02  1023.292876   931.167544  922.971256\n",
       "2000-03  1047.555176   998.187296  924.835988\n",
       "2000-04  1042.079009   973.927479  939.993701\n",
       "2000-05  1007.137753  1001.460033  991.145489"
      ]
     },
     "execution_count": 27,
     "metadata": {},
     "output_type": "execute_result"
    }
   ],
   "source": [
    "account_history.head()"
   ]
  },
  {
   "cell_type": "code",
   "execution_count": 31,
   "metadata": {},
   "outputs": [
    {
     "data": {
      "text/plain": [
       "<AxesSubplot:>"
      ]
     },
     "execution_count": 31,
     "metadata": {},
     "output_type": "execute_result"
    },
    {
     "data": {
      "image/png": "[encoded data removed]",
      "text/plain": [
       "<Figure size 432x288 with 1 Axes>"
      ]
     },
     "metadata": {
      "needs_background": "light"
     },
     "output_type": "display_data"
    }
   ],
   "source": [
    "account_history['Beer'].plot(legend=True)\n",
    "account_history['Fin'].plot(legend=True)\n",
    "account_history['Steel'].plot(legend=True)\n"
   ]
  },
  {
   "cell_type": "code",
   "execution_count": 32,
   "metadata": {},
   "outputs": [],
   "source": [
    "risky_wealth = start * (1 + risky_return).cumprod()"
   ]
  },
  {
   "cell_type": "code",
   "execution_count": 33,
   "metadata": {},
   "outputs": [
    {
     "data": {
      "text/html": [
       "<div>\n",
       "<style scoped>\n",
       "    .dataframe tbody tr th:only-of-type {\n",
       "        vertical-align: middle;\n",
       "    }\n",
       "\n",
       "    .dataframe tbody tr th {\n",
       "        vertical-align: top;\n",
       "    }\n",
       "\n",
       "    .dataframe thead th {\n",
       "        text-align: right;\n",
       "    }\n",
       "</style>\n",
       "<table border=\"1\" class=\"dataframe\">\n",
       "  <thead>\n",
       "    <tr style=\"text-align: right;\">\n",
       "      <th></th>\n",
       "      <th>Steel</th>\n",
       "      <th>Fin</th>\n",
       "      <th>Beer</th>\n",
       "    </tr>\n",
       "  </thead>\n",
       "  <tbody>\n",
       "    <tr>\n",
       "      <th>2000-01</th>\n",
       "      <td>972.300000</td>\n",
       "      <td>955.800000</td>\n",
       "      <td>977.200000</td>\n",
       "    </tr>\n",
       "    <tr>\n",
       "      <th>2000-02</th>\n",
       "      <td>1038.805320</td>\n",
       "      <td>874.652580</td>\n",
       "      <td>863.453920</td>\n",
       "    </tr>\n",
       "    <tr>\n",
       "      <th>2000-03</th>\n",
       "      <td>1075.059626</td>\n",
       "      <td>1020.632096</td>\n",
       "      <td>864.576410</td>\n",
       "    </tr>\n",
       "    <tr>\n",
       "      <th>2000-04</th>\n",
       "      <td>1066.029125</td>\n",
       "      <td>977.255232</td>\n",
       "      <td>896.392822</td>\n",
       "    </tr>\n",
       "    <tr>\n",
       "      <th>2000-05</th>\n",
       "      <td>1013.580492</td>\n",
       "      <td>1026.704346</td>\n",
       "      <td>1002.794650</td>\n",
       "    </tr>\n",
       "    <tr>\n",
       "      <th>...</th>\n",
       "      <td>...</td>\n",
       "      <td>...</td>\n",
       "      <td>...</td>\n",
       "    </tr>\n",
       "    <tr>\n",
       "      <th>2018-08</th>\n",
       "      <td>1306.624224</td>\n",
       "      <td>3283.129665</td>\n",
       "      <td>4629.014147</td>\n",
       "    </tr>\n",
       "    <tr>\n",
       "      <th>2018-09</th>\n",
       "      <td>1297.869842</td>\n",
       "      <td>3219.765263</td>\n",
       "      <td>4637.809274</td>\n",
       "    </tr>\n",
       "    <tr>\n",
       "      <th>2018-10</th>\n",
       "      <td>1147.187153</td>\n",
       "      <td>3044.288056</td>\n",
       "      <td>4564.995669</td>\n",
       "    </tr>\n",
       "    <tr>\n",
       "      <th>2018-11</th>\n",
       "      <td>1112.771539</td>\n",
       "      <td>3132.267981</td>\n",
       "      <td>4829.308918</td>\n",
       "    </tr>\n",
       "    <tr>\n",
       "      <th>2018-12</th>\n",
       "      <td>948.303905</td>\n",
       "      <td>2773.936524</td>\n",
       "      <td>4361.348884</td>\n",
       "    </tr>\n",
       "  </tbody>\n",
       "</table>\n",
       "<p>228 rows × 3 columns</p>\n",
       "</div>"
      ],
      "text/plain": [
       "               Steel          Fin         Beer\n",
       "2000-01   972.300000   955.800000   977.200000\n",
       "2000-02  1038.805320   874.652580   863.453920\n",
       "2000-03  1075.059626  1020.632096   864.576410\n",
       "2000-04  1066.029125   977.255232   896.392822\n",
       "2000-05  1013.580492  1026.704346  1002.794650\n",
       "...              ...          ...          ...\n",
       "2018-08  1306.624224  3283.129665  4629.014147\n",
       "2018-09  1297.869842  3219.765263  4637.809274\n",
       "2018-10  1147.187153  3044.288056  4564.995669\n",
       "2018-11  1112.771539  3132.267981  4829.308918\n",
       "2018-12   948.303905  2773.936524  4361.348884\n",
       "\n",
       "[228 rows x 3 columns]"
      ]
     },
     "execution_count": 33,
     "metadata": {},
     "output_type": "execute_result"
    }
   ],
   "source": []
  }
 ],
 "metadata": {
  "interpreter": {
   "hash": "0a9d4de6e1ab63339d0ceac3c03247c83c1c116898bd686e61b5b9135de399db"
  },
  "kernelspec": {
   "display_name": "Python 3.9.7 ('base')",
   "language": "python",
   "name": "python3"
  },
  "language_info": {
   "codemirror_mode": {
    "name": "ipython",
    "version": 3
   },
   "file_extension": ".py",
   "mimetype": "text/x-python",
   "name": "python",
   "nbconvert_exporter": "python",
   "pygments_lexer": "ipython3",
   "version": "3.9.7"
  },
  "orig_nbformat": 4
 },
 "nbformat": 4,
 "nbformat_minor": 2
}
