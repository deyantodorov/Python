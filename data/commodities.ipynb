{
 "cells": [
  {
   "cell_type": "markdown",
   "metadata": {},
   "source": [
    "# Commodities\n",
    "- Aluminum (Al)\n",
    "- Coal\n",
    "- Copper (Cu)\n",
    "- Corn\n",
    "- Crude Oil\n",
    "- Gold (Au)\n",
    "- Lead (Pb)\n",
    "- Natural Gas\n",
    "- Nickel (Ni)\n",
    "- Palladium (Pd)\n",
    "- Platinum (Pl)\n",
    "- Silver (Ag)\n",
    "- Wheat\n",
    "- Zinc (Zn)"
   ]
  }
 ],
 "metadata": {
  "language_info": {
   "name": "python"
  },
  "orig_nbformat": 4
 },
 "nbformat": 4,
 "nbformat_minor": 2
}
