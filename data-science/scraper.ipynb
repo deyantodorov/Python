{
 "cells": [
  {
   "cell_type": "code",
   "execution_count": 6,
   "metadata": {},
   "outputs": [
    {
     "data": {
      "text/plain": [
       "<lxml.etree._ElementTree at 0x7f9b982d5d80>"
      ]
     },
     "execution_count": 6,
     "metadata": {},
     "output_type": "execute_result"
    }
   ],
   "source": [
    "import lxml\n",
    "import requests\n",
    "\n",
    "url = 'https://www.imot.bg/pcgi/imot.cgi?act=3&slink=86qctf&f1=1'\n",
    "page = requests.get(url, stream=True)\n",
    "page.raw.decode_content = True\n",
    "tree = lxml.html.parse(page.raw)\n",
    "css = CSS\n",
    "\n",
    "tree"
   ]
  }
 ],
 "metadata": {
  "kernelspec": {
   "display_name": "Python 3.9.7 ('base')",
   "language": "python",
   "name": "python3"
  },
  "language_info": {
   "codemirror_mode": {
    "name": "ipython",
    "version": 3
   },
   "file_extension": ".py",
   "mimetype": "text/x-python",
   "name": "python",
   "nbconvert_exporter": "python",
   "pygments_lexer": "ipython3",
   "version": "3.9.7"
  },
  "orig_nbformat": 4,
  "vscode": {
   "interpreter": {
    "hash": "0a9d4de6e1ab63339d0ceac3c03247c83c1c116898bd686e61b5b9135de399db"
   }
  }
 },
 "nbformat": 4,
 "nbformat_minor": 2
}
